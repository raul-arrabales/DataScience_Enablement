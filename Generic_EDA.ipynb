{
 "cells": [
  {
   "cell_type": "markdown",
   "id": "b23062d5-46b7-43db-ad05-2f1ee8b4aba2",
   "metadata": {},
   "source": [
    "# Generic EDA for exploring new Datasets\n",
    "\n",
    "Pandas-based for small datasets or samples\n",
    "\n",
    "---\n",
    "\n",
    "raul.arrabales@gmail.com - Jun '23"
   ]
  },
  {
   "cell_type": "markdown",
   "id": "72396d4c-5ae7-4b41-ae1f-461fc63c8e70",
   "metadata": {
    "tags": []
   },
   "source": [
    "### Libs"
   ]
  },
  {
   "cell_type": "code",
   "execution_count": 8,
   "id": "d068166c-eb11-43a9-a494-951168bcccca",
   "metadata": {
    "tags": []
   },
   "outputs": [],
   "source": [
    "# dataset manipulation\n",
    "import pandas as pd \n",
    "import numpy as np\n",
    "\n",
    "# PDF report generation\n",
    "from fpdf import FPDF"
   ]
  },
  {
   "cell_type": "markdown",
   "id": "1796f056-0386-42c7-ae47-b711cd2969b4",
   "metadata": {},
   "source": [
    "### Misc Config"
   ]
  },
  {
   "cell_type": "code",
   "execution_count": 85,
   "id": "2a07b53c-5662-4788-b81b-6f04c2aed5c1",
   "metadata": {
    "tags": []
   },
   "outputs": [],
   "source": [
    "# Random seed\n",
    "r_seed = 41"
   ]
  },
  {
   "cell_type": "markdown",
   "id": "a99b9716-9b8f-4f61-b4b3-c053c12aa799",
   "metadata": {
    "tags": []
   },
   "source": [
    "### Helper functions"
   ]
  },
  {
   "cell_type": "code",
   "execution_count": 152,
   "id": "6982e9c8-d3e6-4949-a856-97918a6f33eb",
   "metadata": {
    "tags": []
   },
   "outputs": [],
   "source": [
    "def duoprint(text, pdf, marker=False):\n",
    "    \"\"\" Prints the input both in the PDF and output\n",
    "    \"\"\"\n",
    "    if (marker):\n",
    "        pdf.set_font('Arial', 'B', 12)\n",
    "        pdf.set_fill_color(r=248, g=230, b=145)\n",
    "    else:\n",
    "        pdf.set_font('Arial', '', 12)\n",
    "    pdf.cell(w=0, h=10, txt=text, border=0, ln=1, fill=marker)\n",
    "    print(text)"
   ]
  },
  {
   "cell_type": "code",
   "execution_count": 150,
   "id": "ebdff798-9d2f-480a-93a7-cfa442b4d372",
   "metadata": {
    "tags": []
   },
   "outputs": [],
   "source": [
    "def blank_line(pdf):\n",
    "    pdf.cell(w=0, h=10, txt=\"   \", border=0, ln=1)"
   ]
  },
  {
   "cell_type": "markdown",
   "id": "ac2a3a43-7a5d-4fe6-8284-9d941e8b81ee",
   "metadata": {},
   "source": [
    "### PDF Report formatting"
   ]
  },
  {
   "cell_type": "code",
   "execution_count": 154,
   "id": "8bae20b6-7118-4e32-880c-e8aa460547b1",
   "metadata": {
    "tags": []
   },
   "outputs": [],
   "source": [
    "# Document author\n",
    "pdf_author = \"raul.arrabales\"\n",
    "\n",
    "# Margin\n",
    "pdf_margin = 10 \n",
    "\n",
    "# Page width: Width of A4 is 210mm\n",
    "pdf_width = 210 - 2*pdf_margin\n",
    "\n",
    "# Cell height\n",
    "pdf_cell_heigth = 50\n",
    "\n",
    "# Create empty doc\n",
    "pdf = FPDF()\n",
    "pdf.add_page()\n",
    "\n",
    "# Managing dates\n",
    "from datetime import datetime"
   ]
  },
  {
   "cell_type": "markdown",
   "id": "f29bc37d-e413-453d-af6f-37083f7e1f38",
   "metadata": {},
   "source": [
    "### Dataset loading"
   ]
  },
  {
   "cell_type": "code",
   "execution_count": 155,
   "id": "7d3812a7-5445-46d5-8c78-d389b221251b",
   "metadata": {
    "tags": []
   },
   "outputs": [],
   "source": [
    "prolexitim_dataset_path = \"data/Prolexitim_Jan23_En.csv\"\n",
    "df = pd.read_csv(prolexitim_dataset_path,header=0,delimiter=\",\")\n",
    "# df.sample(4)"
   ]
  },
  {
   "cell_type": "code",
   "execution_count": 156,
   "id": "1826c84a-e6c4-4da2-abb0-0a174592415c",
   "metadata": {
    "tags": []
   },
   "outputs": [],
   "source": [
    "pdf.set_font('Arial', 'B', 14)\n",
    "pdf.cell(w=0, h=14, txt=\n",
    "         \"EDA for dataset: \" + prolexitim_dataset_path, border=1, ln=1)\n",
    "pdf.set_font('Arial', '', 12)\n",
    "pdf.cell(w=0, h=8, txt=\n",
    "         \"Generated: \" + datetime.now().strftime(\"%d/%m/%Y %H:%M:%S\"), border=0, ln=1)\n",
    "pdf.cell(w=0, h=8, txt=\n",
    "         \"By: \" + pdf_author, border=0, ln=1)"
   ]
  },
  {
   "cell_type": "code",
   "execution_count": 171,
   "id": "50bf1333-27e7-4ce6-9c7c-b0646f0549b8",
   "metadata": {
    "tags": []
   },
   "outputs": [
    {
     "ename": "SyntaxError",
     "evalue": "f-string: empty expression not allowed (2699179606.py, line 1)",
     "output_type": "error",
     "traceback": [
      "\u001b[0;36m  Cell \u001b[0;32mIn[171], line 1\u001b[0;36m\u001b[0m\n\u001b[0;31m    print(f\"{}\",len(df['TAS20'].unique()) / n_rows * 100)\u001b[0m\n\u001b[0m               ^\u001b[0m\n\u001b[0;31mSyntaxError\u001b[0m\u001b[0;31m:\u001b[0m f-string: empty expression not allowed\n"
     ]
    }
   ],
   "source": [
    "print(f\"{}\",len(df['TAS20'].unique()) / n_rows * 100)"
   ]
  },
  {
   "cell_type": "markdown",
   "id": "3ddcaed3-236f-4b23-af17-fd97351e3844",
   "metadata": {
    "tags": []
   },
   "source": [
    "### Basic Dataset exploration"
   ]
  },
  {
   "cell_type": "code",
   "execution_count": 162,
   "id": "4463715c-2889-4958-9133-cb6d27942315",
   "metadata": {
    "tags": []
   },
   "outputs": [
    {
     "name": "stdout",
     "output_type": "stream",
     "text": [
      "Number of rows: 1011\n",
      "Number of columns: 36\n"
     ]
    }
   ],
   "source": [
    "blank_line(pdf)\n",
    "pdf.set_font('Arial', 'B', 12)\n",
    "pdf.cell(w=0, h=10, txt=\"Dataset Dimensions\", border=1, ln=1)\n",
    "\n",
    "n_rows = len(df)\n",
    "row_info = \"Number of rows: \" + str(n_rows)\n",
    "print(row_info)\n",
    "pdf.set_font('Arial', '', 12)\n",
    "pdf.cell(w=0, h=8, txt=row_info, border=0, ln=1)\n",
    "\n",
    "n_cols = df.shape[1]\n",
    "col_info = \"Number of columns: \" + str(n_cols)\n",
    "print(col_info)\n",
    "pdf.cell(w=0, h=8, txt=col_info, border=0, ln=1)\n"
   ]
  },
  {
   "cell_type": "code",
   "execution_count": 173,
   "id": "5deebf4e-c299-4bd3-a6eb-ca270d793e94",
   "metadata": {
    "tags": []
   },
   "outputs": [
    {
     "name": "stdout",
     "output_type": "stream",
     "text": [
      "Column: Timestamp\n",
      "Column Type: object\n",
      "Sample value: 2021-03-17T06:09:29.827Z\n",
      "Number of unique values: 1011\n",
      "Percentage of unique values: 100.00%\n",
      "---\n",
      "Column: TAS20\n",
      "Column Type: int64\n",
      "Sample value: 74\n",
      "Number of unique values: 65\n",
      "Percentage of unique values: 6.43%\n",
      "---\n",
      "Column: F1\n",
      "Column Type: int64\n",
      "Sample value: 29\n",
      "Number of unique values: 29\n",
      "Percentage of unique values: 2.87%\n",
      "---\n",
      "Column: F2\n",
      "Column Type: int64\n",
      "Sample value: 22\n",
      "Number of unique values: 21\n",
      "Percentage of unique values: 2.08%\n",
      "---\n",
      "Column: F3\n",
      "Column Type: int64\n",
      "Sample value: 23\n",
      "Number of unique values: 31\n",
      "Percentage of unique values: 3.07%\n",
      "---\n",
      "Column: Gender\n",
      "Column Type: int64\n",
      "Sample value: 2\n",
      "Number of unique values: 3\n",
      "Percentage of unique values: 0.30%\n",
      "---\n",
      "Column: Age\n",
      "Column Type: object\n",
      "Sample value: 18\n",
      "Number of unique values: 46\n",
      "Percentage of unique values: 4.55%\n",
      "---\n",
      "Column: Code\n",
      "Column Type: object\n",
      "Sample value: 051447cdd1451f552c6cec85e29564d3\n",
      "Number of unique values: 947\n",
      "Percentage of unique values: 93.67%\n",
      "---\n",
      "Column: Alexithymia\n",
      "Column Type: object\n",
      "Sample value: POSITIVE\n",
      "Number of unique values: 2\n",
      "Percentage of unique values: 0.20%\n",
      "---\n",
      "Column: Timestamp (1)\n",
      "Column Type: object\n",
      "Sample value: 2021-03-17T06:18:52.441Z\n",
      "Number of unique values: 947\n",
      "Percentage of unique values: 93.67%\n",
      "---\n",
      "Column: DateDiff_TAS20_NLP\n",
      "Column Type: int64\n",
      "Sample value: 0\n",
      "Number of unique values: 43\n",
      "Percentage of unique values: 4.25%\n",
      "---\n",
      "Column: Text_Card1\n",
      "Column Type: object\n",
      "Sample value: The boy here looks in discomfort or may have been feeling some sadness due to different circumstances. It basically looks like the boy is feeling some grief due to something that has to do with the violin by his side.\n",
      "\n",
      "Number of unique values: 945\n",
      "Percentage of unique values: 93.47%\n",
      "---\n",
      "Column: Text_Card9VH\n",
      "Column Type: object\n",
      "Sample value: The men here look like their gangsters, mafia or something like that. Of course, they are very creepy looking\n",
      "\n",
      "Number of unique values: 947\n",
      "Percentage of unique values: 93.67%\n",
      "---\n",
      "Column: Text_Card11\n",
      "Column Type: object\n",
      "Sample value: i don't see anything that bothers me here. It's just some stupid slope and waterfall and some people who are of course, stupid from my perspective\n",
      "Number of unique values: 943\n",
      "Percentage of unique values: 93.27%\n",
      "---\n",
      "Column: Text_Card13HM\n",
      "Column Type: object\n",
      "Sample value: The person sleeping on the bed could have been murdered or might have been in a wrong situation from my perspective. It implies that the person standing up is in grief.\n",
      "Number of unique values: 947\n",
      "Percentage of unique values: 93.67%\n",
      "---\n",
      "Column: Text_AllCards\n",
      "Column Type: object\n",
      "Sample value: The boy here looks in discomfort or may have been feeling some sadness due to different circumstances. It basically looks like the boy is feeling some grief due to something that has to do with the violin by his side.\n",
      "The men here look like their gangsters, mafia or something like that. Of course, they are very creepy looking\n",
      "i don't see anything that bothers me here. It's just some stupid slope and waterfall and some people who are of course, stupid from my perspectiveThe person sleeping on the bed could have been murdered or might have been in a wrong situation from my perspective. It implies that the person standing up is in grief.\n",
      "Number of unique values: 947\n",
      "Percentage of unique values: 93.67%\n",
      "---\n",
      "Column: PHQ9\n",
      "Column Type: float64\n",
      "Sample value: 21.0\n",
      "Number of unique values: 29\n",
      "Percentage of unique values: 2.87%\n",
      "---\n",
      "Column: I1\n",
      "Column Type: float64\n",
      "Sample value: 3.0\n",
      "Number of unique values: 5\n",
      "Percentage of unique values: 0.49%\n",
      "---\n",
      "Column: I2\n",
      "Column Type: float64\n",
      "Sample value: 3.0\n",
      "Number of unique values: 5\n",
      "Percentage of unique values: 0.49%\n",
      "---\n",
      "Column: I3\n",
      "Column Type: float64\n",
      "Sample value: 0.0\n",
      "Number of unique values: 5\n",
      "Percentage of unique values: 0.49%\n",
      "---\n",
      "Column: I4\n",
      "Column Type: float64\n",
      "Sample value: 3.0\n",
      "Number of unique values: 5\n",
      "Percentage of unique values: 0.49%\n",
      "---\n",
      "Column: I5\n",
      "Column Type: float64\n",
      "Sample value: 3.0\n",
      "Number of unique values: 5\n",
      "Percentage of unique values: 0.49%\n",
      "---\n",
      "Column: I6\n",
      "Column Type: float64\n",
      "Sample value: 3.0\n",
      "Number of unique values: 5\n",
      "Percentage of unique values: 0.49%\n",
      "---\n",
      "Column: I7\n",
      "Column Type: float64\n",
      "Sample value: 3.0\n",
      "Number of unique values: 5\n",
      "Percentage of unique values: 0.49%\n",
      "---\n",
      "Column: I8\n",
      "Column Type: float64\n",
      "Sample value: 0.0\n",
      "Number of unique values: 5\n",
      "Percentage of unique values: 0.49%\n",
      "---\n",
      "Column: I9\n",
      "Column Type: float64\n",
      "Sample value: 3.0\n",
      "Number of unique values: 5\n",
      "Percentage of unique values: 0.49%\n",
      "---\n",
      "Column: Depression\n",
      "Column Type: object\n",
      "Sample value: POSITIVE\n",
      "Number of unique values: 3\n",
      "Percentage of unique values: 0.30%\n",
      "---\n",
      "Column: BAI\n",
      "Column Type: float64\n",
      "Sample value: 20.0\n",
      "Number of unique values: 61\n",
      "Percentage of unique values: 6.03%\n",
      "---\n",
      "Column: Anxiety\n",
      "Column Type: object\n",
      "Sample value: POSITIVE\n",
      "Number of unique values: 3\n",
      "Percentage of unique values: 0.30%\n",
      "---\n",
      "Column: PSS\n",
      "Column Type: float64\n",
      "Sample value: 44.0\n",
      "Number of unique values: 44\n",
      "Percentage of unique values: 4.35%\n",
      "---\n",
      "Column: AN\n",
      "Column Type: float64\n",
      "Sample value: 49.0\n",
      "Number of unique values: 42\n",
      "Percentage of unique values: 4.15%\n",
      "---\n",
      "Column: AP\n",
      "Column Type: float64\n",
      "Sample value: 12.0\n",
      "Number of unique values: 35\n",
      "Percentage of unique values: 3.46%\n",
      "---\n",
      "Column: Text_Card1_en\n",
      "Column Type: object\n",
      "Sample value: The boy here looks in discomfort or may have been feeling some sadness due to different circumstances. It basically looks like the boy is feeling some grief due to something that he has to do with the violin by his side.\n",
      "Number of unique values: 943\n",
      "Percentage of unique values: 93.27%\n",
      "---\n",
      "Column: Text_Card9VH_en\n",
      "Column Type: object\n",
      "Sample value: The men here look like their gangsters, mafia or something like that. Of course, they are very creepy looking\n",
      "Number of unique values: 947\n",
      "Percentage of unique values: 93.67%\n",
      "---\n",
      "Column: Text_Card11_en\n",
      "Column Type: object\n",
      "Sample value: i don't see anything that bothers me here. It's just some stupid slope and waterfall and some people who are of course, stupid from my perspective\n",
      "Number of unique values: 941\n",
      "Percentage of unique values: 93.08%\n",
      "---\n",
      "Column: Text_Card13HM_en\n",
      "Column Type: object\n",
      "Sample value: The person sleeping on the bed could have been murdered or might have been in a wrong situation from my perspective. It implies that the person standing up is in grief.\n",
      "Number of unique values: 947\n",
      "Percentage of unique values: 93.67%\n",
      "---\n"
     ]
    }
   ],
   "source": [
    "pdf.set_font('Arial', 'B', 12)\n",
    "pdf.cell(w=0, h=10, txt=\"   \", border=0, ln=1)\n",
    "pdf.cell(w=0, h=10, txt=\"Dataset Contents\", border=1, ln=1)\n",
    "\n",
    "for c in df.columns: \n",
    "    blank_line(pdf)\n",
    "    \n",
    "    col_name = \"Column: \" + c\n",
    "    duoprint(col_name, pdf, marker=True)\n",
    "    \n",
    "    type_info = \"Column Type: \" + str(df[c].dtype)\n",
    "    duoprint(type_info, pdf)\n",
    "        \n",
    "    sample_info = \"Sample value: \" + str(df[c].sample(n=1, ignore_index=True, random_state=r_seed).iloc[-1])\n",
    "    duoprint(sample_info, pdf)\n",
    "    \n",
    "    num_unique = len(df[c].unique())\n",
    "    num_unique_info = \"Number of unique values: \" + str(num_unique)\n",
    "    duoprint(num_unique_info, pdf)\n",
    "    \n",
    "    pct_unique = (num_unique/n_rows)*100\n",
    "    pct_unique_info = f'Percentage of unique values: {pct_unique:.2f}%'\n",
    "    duoprint(pct_unique_info, pdf)\n",
    "    \n",
    "    print(\"---\")"
   ]
  },
  {
   "cell_type": "code",
   "execution_count": 160,
   "id": "295a8ed0-d252-4a49-a599-e57bf4ee77f9",
   "metadata": {
    "tags": []
   },
   "outputs": [
    {
     "data": {
      "text/plain": [
       "''"
      ]
     },
     "execution_count": 160,
     "metadata": {},
     "output_type": "execute_result"
    }
   ],
   "source": [
    "pdf.output(f'./EDA_report.pdf', 'F')"
   ]
  },
  {
   "cell_type": "markdown",
   "id": "b7c23842-f3fd-4b28-a390-42d69b2f2b7a",
   "metadata": {
    "tags": []
   },
   "source": [
    "### Data Quality check"
   ]
  },
  {
   "cell_type": "markdown",
   "id": "c0a643d9-2daa-46c5-93a5-038a459b1f93",
   "metadata": {},
   "source": [
    "#### Label quality check (for supervised learning)"
   ]
  },
  {
   "cell_type": "code",
   "execution_count": null,
   "id": "b7702bca-bdb1-48df-bc95-7f0a6e9a8803",
   "metadata": {},
   "outputs": [],
   "source": []
  },
  {
   "cell_type": "code",
   "execution_count": null,
   "id": "08d747e5-e118-4f46-b5e0-da3fd1d46098",
   "metadata": {},
   "outputs": [],
   "source": []
  },
  {
   "cell_type": "code",
   "execution_count": null,
   "id": "1e5659d3-5415-4619-ab8b-6626c40e324f",
   "metadata": {},
   "outputs": [],
   "source": []
  },
  {
   "cell_type": "markdown",
   "id": "a6c45df8-3f3f-4d03-93f4-a1f7bde24b83",
   "metadata": {},
   "source": [
    "### Correlational Analysis"
   ]
  },
  {
   "cell_type": "code",
   "execution_count": null,
   "id": "76db38cf-9217-40a4-bbf6-c16fd7b7ed42",
   "metadata": {},
   "outputs": [],
   "source": []
  },
  {
   "cell_type": "code",
   "execution_count": null,
   "id": "de10ffc6-56f9-4ddd-a621-e1a21cbe03e9",
   "metadata": {},
   "outputs": [],
   "source": []
  },
  {
   "cell_type": "code",
   "execution_count": null,
   "id": "ddd41b85-71ec-473c-a498-b045b1e9b0b9",
   "metadata": {},
   "outputs": [],
   "source": []
  },
  {
   "cell_type": "code",
   "execution_count": null,
   "id": "23835f23-815d-423f-a3e4-80b997b6f389",
   "metadata": {},
   "outputs": [],
   "source": []
  },
  {
   "cell_type": "code",
   "execution_count": null,
   "id": "0e2538ad-1a60-4efe-b0b3-76f86be19d31",
   "metadata": {},
   "outputs": [],
   "source": []
  },
  {
   "cell_type": "code",
   "execution_count": null,
   "id": "41458f1a-4f7a-4afb-864a-853d5c2d220f",
   "metadata": {},
   "outputs": [],
   "source": []
  }
 ],
 "metadata": {
  "kernelspec": {
   "display_name": "Python 3 (ipykernel)",
   "language": "python",
   "name": "python3"
  },
  "language_info": {
   "codemirror_mode": {
    "name": "ipython",
    "version": 3
   },
   "file_extension": ".py",
   "mimetype": "text/x-python",
   "name": "python",
   "nbconvert_exporter": "python",
   "pygments_lexer": "ipython3",
   "version": "3.10.10"
  }
 },
 "nbformat": 4,
 "nbformat_minor": 5
}
